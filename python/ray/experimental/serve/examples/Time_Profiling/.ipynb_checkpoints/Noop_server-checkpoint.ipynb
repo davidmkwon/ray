{
 "cells": [
  {
   "cell_type": "code",
   "execution_count": null,
   "metadata": {},
   "outputs": [],
   "source": [
    "import time\n",
    "\n",
    "import requests\n",
    "from werkzeug import urls\n",
    "\n",
    "from ray.experimental import serve\n",
    "from ray.experimental.serve.utils import pformat_color_json\n",
    "import json"
   ]
  },
  {
   "cell_type": "code",
   "execution_count": null,
   "metadata": {},
   "outputs": [],
   "source": [
    "def echo(context):\n",
    "    return 1"
   ]
  },
  {
   "cell_type": "code",
   "execution_count": null,
   "metadata": {},
   "outputs": [],
   "source": [
    "serve.create_backend(echo, \"echo:v1\",num_gpu=0)\n",
    "serve.create_no_http_service(\"serve\")\n",
    "serve.link_service(\"serve\", \"echo:v1\")\n",
    "serve.add_service(\"pipeline1\",\"serve\")\n",
    "serve.provision_pipeline(\"pipeline1\")\n",
    "serve.create_endpoint_pipeline(\"pipeline1\", \"/echo\", blocking=True)\n",
    "print(\"http://127.0.0.1:8000/echo\")"
   ]
  }
 ],
 "metadata": {
  "kernelspec": {
   "display_name": "Python 3",
   "language": "python",
   "name": "python3"
  },
  "language_info": {
   "codemirror_mode": {
    "name": "ipython",
    "version": 3
   },
   "file_extension": ".py",
   "mimetype": "text/x-python",
   "name": "python",
   "nbconvert_exporter": "python",
   "pygments_lexer": "ipython3",
   "version": "3.6.9"
  }
 },
 "nbformat": 4,
 "nbformat_minor": 2
}
