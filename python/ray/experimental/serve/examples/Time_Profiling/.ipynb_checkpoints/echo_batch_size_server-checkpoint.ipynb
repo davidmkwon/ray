{
 "cells": [
  {
   "cell_type": "code",
   "execution_count": null,
   "metadata": {},
   "outputs": [],
   "source": [
    "import time\n",
    "\n",
    "from werkzeug import urls\n",
    "from threading import Thread\n",
    "from ray.experimental import serve\n",
    "from ray.experimental.serve.utils import pformat_color_json\n",
    "import json\n",
    "import requests\n",
    "import ray"
   ]
  },
  {
   "cell_type": "code",
   "execution_count": null,
   "metadata": {},
   "outputs": [],
   "source": [
    "def echo1(context):\n",
    "\tresult = []\n",
    "\tbatch_size = len(context)\n",
    "\ttime.sleep(5)\n",
    "\tfor i in range(batch_size):\n",
    "\t\tmessage = \"\"\n",
    "\t\tmessage += 'FROM MODEL1/BS-{} -> '.format(batch_size)\n",
    "\t\tresult.append(message)\n",
    "\treturn result\n",
    "def echo2(context):\n",
    "\tresult = []\n",
    "\tbatch_size = len(context)\n",
    "\ttime.sleep(5)\n",
    "\tfor i in range(batch_size):\n",
    "\t\tmessage = context[i]\n",
    "\t\tmessage += 'FROM MODEL2/BS-{} -> '.format(batch_size)\n",
    "\t\tresult.append(message)\n",
    "\treturn result\n",
    "\n",
    "def echo3(context):\n",
    "\tresult = []\n",
    "\tbatch_size = len(context)\n",
    "\ttime.sleep(5)\n",
    "\tfor i in range(batch_size):\n",
    "\t\tmessage = context[i]\n",
    "\t\tmessage += 'FROM MODEL3/BS-{} -> '.format(batch_size)\n",
    "\t\tresult.append(message)\n",
    "\treturn result"
   ]
  },
  {
   "cell_type": "code",
   "execution_count": null,
   "metadata": {},
   "outputs": [],
   "source": [
    "serve.init(blocking=True)\n",
    "\n",
    "# serve.create_endpoint_pipeline(\"pipeline1\", \"/echo\", blocking=True)\n",
    "\n",
    "# Create Backends\n",
    "serve.create_backend(echo1, \"echo:v1\",num_gpu=0)\n",
    "serve.create_backend(echo2, \"echo:v2\",num_gpu=0)\n",
    "serve.create_backend(echo3,\"echo:v3\",num_gpu=0)\n",
    "\n",
    "# Create services\n",
    "serve.create_no_http_service(\"serve1\",max_batch_size=5)\n",
    "serve.create_no_http_service(\"serve2\",max_batch_size=4)\n",
    "serve.create_no_http_service(\"serve3\",max_batch_size=3)\n",
    "\n",
    "# Link services and backends\n",
    "serve.link_service(\"serve1\", \"echo:v1\")\n",
    "serve.link_service(\"serve2\", \"echo:v2\")\n",
    "serve.link_service(\"serve3\",\"echo:v3\")"
   ]
  },
  {
   "cell_type": "code",
   "execution_count": null,
   "metadata": {},
   "outputs": [],
   "source": [
    "serve.add_service_dependencies(\"pipeline1\",\"serve1\",\"serve2\")\n",
    "# serve3 depends on serve2\n",
    "serve.add_service_dependencies(\"pipeline1\",\"serve2\",\"serve3\")\n",
    "\n",
    "# Provision the PIPELINE (You can provision the pipeline only once)\n",
    "serve.provision_pipeline(\"pipeline1\")"
   ]
  },
  {
   "cell_type": "code",
   "execution_count": null,
   "metadata": {},
   "outputs": [],
   "source": [
    "serve.create_endpoint_pipeline(\"pipeline1\", \"/bsEcho\", blocking=True)\n",
    "print(\"http://127.0.0.1:8000/bsEcho\")"
   ]
  }
 ],
 "metadata": {
  "kernelspec": {
   "display_name": "Python 3",
   "language": "python",
   "name": "python3"
  },
  "language_info": {
   "codemirror_mode": {
    "name": "ipython",
    "version": 3
   },
   "file_extension": ".py",
   "mimetype": "text/x-python",
   "name": "python",
   "nbconvert_exporter": "python",
   "pygments_lexer": "ipython3",
   "version": "3.6.9"
  }
 },
 "nbformat": 4,
 "nbformat_minor": 2
}
